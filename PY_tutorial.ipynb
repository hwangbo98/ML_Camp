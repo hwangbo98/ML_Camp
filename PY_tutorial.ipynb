{
 "cells": [
  {
   "cell_type": "code",
   "execution_count": 1,
   "metadata": {},
   "outputs": [
    {
     "name": "stdout",
     "output_type": "stream",
     "text": [
      "Hello, World!\n"
     ]
    }
   ],
   "source": [
    "print('Hello, World!')\n",
    "\n"
   ]
  },
  {
   "cell_type": "code",
   "execution_count": 2,
   "metadata": {},
   "outputs": [
    {
     "name": "stdout",
     "output_type": "stream",
     "text": [
      "This is not a comment\n"
     ]
    }
   ],
   "source": [
    "print('This is not a comment')"
   ]
  },
  {
   "cell_type": "code",
   "execution_count": 6,
   "metadata": {},
   "outputs": [
    {
     "name": "stdout",
     "output_type": "stream",
     "text": [
      "int_a =  4\n",
      "int_b =  5\n",
      "int_a + int_b = 9\n",
      "float_c =  3.1\n",
      "float_d =  2.7\n",
      "float_c + float_d =  2.7\n",
      "bool_eq =  True\n",
      "var_none =  None\n",
      "<class 'int'>\n",
      "<class 'float'>\n",
      "<class 'bool'>\n",
      "<class 'NoneType'>\n",
      "int_a/int_b =  0.8\n",
      "int_a//int_b =  0\n",
      "float_c/float_d =  1.1481481481481481\n",
      "float_c//float_d =  1.0\n",
      "int_a/int_b =  0.8\n",
      "bool_x =  True\n",
      "not bool_x =  False\n",
      "bool_x and bool_x =  True\n",
      "bool_x and not bool_x =  False\n",
      "bool_x or bool_x =  True\n",
      "bool_x or not bool_x =  True\n"
     ]
    }
   ],
   "source": [
    "int_a = 4\n",
    "int_b = 5\n",
    "\n",
    "float_c = 3.1\n",
    "float_d = 2.7\n",
    "\n",
    "bool_eq = (int_a != int_b)\n",
    "\n",
    "var_none = None\n",
    "\n",
    "print('int_a = ', int_a)\n",
    "print('int_b = ', int_b)\n",
    "print('int_a + int_b =', int_a+int_b)\n",
    "\n",
    "print('float_c = ', float_c)\n",
    "print('float_d = ', float_d)\n",
    "print('float_c + float_d = ', float_d)\n",
    "\n",
    "print('bool_eq = ', bool_eq)\n",
    "\n",
    "print('var_none = ', var_none)\n",
    "\n",
    "print(type(int_a))\n",
    "print(type(float_c))\n",
    "print(type(bool_eq))\n",
    "print(type(var_none))\n",
    "\n",
    "print('int_a/int_b = ', int_a/int_b)\n",
    "\n",
    "print('int_a//int_b = ', int_a//int_b)\n",
    "\n",
    "print('float_c/float_d = ', float_c/float_d)\n",
    "print('float_c//float_d = ', float_c//float_d)\n",
    "\n",
    "print('int_a/int_b = ', int_a/int_b)\n",
    "\n",
    "bool_x = True\n",
    "\n",
    "print('bool_x = ', bool_x)\n",
    "print('not bool_x = ', not bool_x)\n",
    "print('bool_x and bool_x = ', bool_x and bool_x)\n",
    "print('bool_x and not bool_x = ', bool_x and not bool_x)\n",
    "print('bool_x or bool_x = ', bool_x or bool_x)\n",
    "print('bool_x or not bool_x = ', bool_x or not bool_x)\n"
   ]
  },
  {
   "attachments": {},
   "cell_type": "markdown",
   "metadata": {},
   "source": [
    "## 1.4.1 Strings\n"
   ]
  },
  {
   "cell_type": "code",
   "execution_count": 8,
   "metadata": {},
   "outputs": [
    {
     "name": "stdout",
     "output_type": "stream",
     "text": [
      "a string\n",
      "another string\n",
      "\n",
      "This is a multi-line string\n",
      "that spans over\n",
      "a single line\n",
      "\n",
      "s = pohang\n",
      "s + s =  pohangpohang\n",
      "s * 3 =  pohangpohangpohang\n",
      "s[2] = h\n",
      "s[0:2] =  po\n",
      "s[2:] =  hang\n",
      "s[:3] =  poh\n"
     ]
    }
   ],
   "source": [
    "s = 'a string'\n",
    "print(s)\n",
    "\n",
    "s = 'another string'\n",
    "print(s)\n",
    "\n",
    "sss = \"\"\"\n",
    "This is a multi-line string\n",
    "that spans over\n",
    "a single line\n",
    "\"\"\"\n",
    "\n",
    "print(sss)\n",
    "\n",
    "s = 'pohang'\n",
    "\n",
    "print('s =',s)\n",
    "print('s + s = ', s+s)\n",
    "print('s * 3 = ', s*3)\n",
    "print('s[2] =', s[2])\n",
    "print('s[0:2] = ', s[0:2])\n",
    "print('s[2:] = ', s[2:])\n",
    "print('s[:3] = ', s[:3])\n",
    "\n"
   ]
  },
  {
   "attachments": {},
   "cell_type": "markdown",
   "metadata": {},
   "source": [
    "### 1.4.2 Tuples"
   ]
  },
  {
   "cell_type": "code",
   "execution_count": 11,
   "metadata": {},
   "outputs": [
    {
     "name": "stdout",
     "output_type": "stream",
     "text": [
      "()\n",
      "(1, 'two', 3)\n",
      "(1, 'two', 3, 1, 'two', 3)\n",
      "two\n",
      "1\n",
      "(1, 'two', 3)\n",
      "(1, 'two')\n",
      "('two', 3, 1)\n"
     ]
    }
   ],
   "source": [
    "t1 = ()\n",
    "t2 = (1, 'two', 3)\n",
    "\n",
    "print(t1)\n",
    "print(t2)\n",
    "print(t2 + t2)\n",
    "print(t2[1])\n",
    "# print((t2+t2))\n",
    "print((t2+t2)[3])\n",
    "print((t2+t2)[3:])\n",
    "print((t2+t2)[:2])\n",
    "print((t2+t2)[1:4])\n"
   ]
  },
  {
   "cell_type": "code",
   "execution_count": 14,
   "metadata": {},
   "outputs": [
    {
     "name": "stdout",
     "output_type": "stream",
     "text": [
      "['I did', 'it', 'all', 4, 'love']\n",
      "['I did', 'it', 'all', 4, 'love', 'I did', 'it', 'all', 4, 'love']\n",
      "all\n",
      "['it']\n",
      "['all', 4]\n",
      "[4, 'love']\n",
      "['I did', 'it', 'all']\n"
     ]
    }
   ],
   "source": [
    "l1 = []\n",
    "l2 = ['I did', 'it', 'all', 4, 'love']\n",
    "\n",
    "print(l2)\n",
    "print(l2 + l2)\n",
    "print(l2[2])\n",
    "print(l2[1:2])\n",
    "print(l2[2:4])\n",
    "print(l2[3:])\n",
    "print(l2[:3])"
   ]
  },
  {
   "attachments": {},
   "cell_type": "markdown",
   "metadata": {},
   "source": [
    "### 1.4.4 Dictionaries"
   ]
  },
  {
   "cell_type": "code",
   "execution_count": 15,
   "metadata": {},
   "outputs": [
    {
     "name": "stdout",
     "output_type": "stream",
     "text": [
      "The third month is Mar\n",
      "April is the 4-th month\n"
     ]
    }
   ],
   "source": [
    "Months = {'Jan' : 1, 'Feb' : 2, 'Mar' : 3, 'Apr' : 4, 'May' : 5, \n",
    "          1: 'Jan', 2: 'Feb', 3: 'Mar', 4 : 'Apr', 5: 'May'\n",
    "          }\n",
    "\n",
    "print('The third month is ' + Months[3])\n",
    "print('April is the %d-th month' %Months['Apr'])"
   ]
  },
  {
   "cell_type": "code",
   "execution_count": 16,
   "metadata": {},
   "outputs": [
    {
     "name": "stdout",
     "output_type": "stream",
     "text": [
      "1\n",
      "2\n",
      "3\n",
      "4\n",
      "5\n",
      "Jan\n",
      "Feb\n",
      "Mar\n",
      "Apr\n",
      "May\n"
     ]
    }
   ],
   "source": [
    "for key in Months :\n",
    "    print(Months[key])"
   ]
  },
  {
   "cell_type": "code",
   "execution_count": 17,
   "metadata": {},
   "outputs": [
    {
     "name": "stdout",
     "output_type": "stream",
     "text": [
      "a == 0\n",
      "a is positive and divisible by both 3 and 9\n"
     ]
    }
   ],
   "source": [
    "a = 0\n",
    "\n",
    "if a == 1 :\n",
    "    print('a == 1')\n",
    "elif a == 0 :\n",
    "    print('a == 0')\n",
    "else : \n",
    "    print('a == something else')\n",
    "\n",
    "\n",
    "a = 9\n",
    "\n",
    "if a > 0 :\n",
    "    if a % 3 == 0 :\n",
    "        if a % 9 == 0 :\n",
    "            print('a is positive and divisible by both 3 and 9')\n",
    "        else :\n",
    "            print('a is positive and divisible by 3')\n",
    "    else :\n",
    "        print('a is a positive number')\n",
    "\n",
    "elif a == 0 :\n",
    "    print('a is zero')\n",
    "else :\n",
    "    print('a is a negative number')"
   ]
  },
  {
   "cell_type": "code",
   "execution_count": 18,
   "metadata": {},
   "outputs": [
    {
     "name": "stdout",
     "output_type": "stream",
     "text": [
      "0\n",
      "1\n",
      "2\n",
      "3\n",
      "4\n"
     ]
    }
   ],
   "source": [
    "for i in range(5) :\n",
    "    print(i)\n",
    "\n"
   ]
  },
  {
   "cell_type": "code",
   "execution_count": 19,
   "metadata": {},
   "outputs": [
    {
     "name": "stdout",
     "output_type": "stream",
     "text": [
      "2\n",
      "3\n",
      "4\n",
      "5\n",
      "6\n"
     ]
    }
   ],
   "source": [
    "for i in range(2, 7) :\n",
    "    print(i)"
   ]
  },
  {
   "cell_type": "code",
   "execution_count": 20,
   "metadata": {},
   "outputs": [
    {
     "name": "stdout",
     "output_type": "stream",
     "text": [
      "-5\n",
      "-3\n",
      "-1\n",
      "1\n",
      "3\n"
     ]
    }
   ],
   "source": [
    "for i in range(-5, 5, 2) :\n",
    "    print(i)"
   ]
  }
 ],
 "metadata": {
  "kernelspec": {
   "display_name": "bigdata",
   "language": "python",
   "name": "python3"
  },
  "language_info": {
   "codemirror_mode": {
    "name": "ipython",
    "version": 3
   },
   "file_extension": ".py",
   "mimetype": "text/x-python",
   "name": "python",
   "nbconvert_exporter": "python",
   "pygments_lexer": "ipython3",
   "version": "3.9.12"
  },
  "orig_nbformat": 4
 },
 "nbformat": 4,
 "nbformat_minor": 2
}
