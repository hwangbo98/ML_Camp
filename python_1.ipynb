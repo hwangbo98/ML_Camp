{
 "cells": [
  {
   "cell_type": "code",
   "execution_count": 4,
   "metadata": {},
   "outputs": [
    {
     "name": "stdout",
     "output_type": "stream",
     "text": [
      "one : 1, two : 2, three : 3, four : 4, five : 5\n"
     ]
    }
   ],
   "source": [
    "def func() :\n",
    "    return 1,2,3,4,5\n",
    "\n",
    "one, two, three, four, five = func()\n",
    "\n",
    "print(f'one : {one}, two : {two}, three : {three}, four : {four}, five : {five}' )"
   ]
  },
  {
   "cell_type": "code",
   "execution_count": 5,
   "metadata": {},
   "outputs": [],
   "source": [
    "def func(array) :\n",
    "    for num in array :\n",
    "        if num%2 == 0 :\n",
    "            print(num)\n",
    "            break\n",
    "\n",
    "    else :\n",
    "        print(\"No call for Break. Else is executed\") # 아예 위에서 break가 걸리지 않으면 실행되는 것 같다. "
   ]
  },
  {
   "cell_type": "code",
   "execution_count": 7,
   "metadata": {},
   "outputs": [
    {
     "name": "stdout",
     "output_type": "stream",
     "text": [
      "2\n"
     ]
    }
   ],
   "source": [
    "a = [1,2,3,5]\n",
    "\n",
    "func(a)\n"
   ]
  },
  {
   "cell_type": "code",
   "execution_count": 12,
   "metadata": {},
   "outputs": [
    {
     "name": "stdout",
     "output_type": "stream",
     "text": [
      "3 4\n",
      "2 3\n"
     ]
    }
   ],
   "source": [
    "def point(x,y): \n",
    "    print(x,y)\n",
    "\n",
    "fool_list = (3,4)\n",
    "bar_dict = {'y' : 3, 'x' : 2}\n",
    "\n",
    "point(*fool_list) # tuple을 argument로 사용할 때는 *을 하나,\n",
    "point(**bar_dict) # dictionary를 argument로 사용할 때는 *이 두 개\n"
   ]
  },
  {
   "cell_type": "code",
   "execution_count": 14,
   "metadata": {},
   "outputs": [
    {
     "name": "stdout",
     "output_type": "stream",
     "text": [
      "True\n",
      "True\n"
     ]
    }
   ],
   "source": [
    "i = 5\n",
    "\n",
    "ans = 1 < i < 10\n",
    "\n",
    "print(ans)\n",
    "\n",
    "ans = 10 > i <= 9\n",
    "\n",
    "print(ans)"
   ]
  },
  {
   "cell_type": "code",
   "execution_count": 15,
   "metadata": {},
   "outputs": [
    {
     "name": "stdout",
     "output_type": "stream",
     "text": [
      "Negative Infinity is least\n"
     ]
    }
   ],
   "source": [
    "\n",
    "p_infinity = float('Inf')\n",
    "\n",
    "if 999999999999999 > p_infinity :\n",
    "    print(\"The number is less than Negative Infinity!\")\n",
    "else :\n",
    "    print('Negative Infinity is least')"
   ]
  },
  {
   "cell_type": "code",
   "execution_count": 16,
   "metadata": {},
   "outputs": [],
   "source": [
    "a = [1, 2, 3, 4, 5]\n",
    "\n"
   ]
  },
  {
   "cell_type": "code",
   "execution_count": 17,
   "metadata": {},
   "outputs": [
    {
     "name": "stdout",
     "output_type": "stream",
     "text": [
      "The Zen of Python, by Tim Peters\n",
      "\n",
      "Beautiful is better than ugly.\n",
      "Explicit is better than implicit.\n",
      "Simple is better than complex.\n",
      "Complex is better than complicated.\n",
      "Flat is better than nested.\n",
      "Sparse is better than dense.\n",
      "Readability counts.\n",
      "Special cases aren't special enough to break the rules.\n",
      "Although practicality beats purity.\n",
      "Errors should never pass silently.\n",
      "Unless explicitly silenced.\n",
      "In the face of ambiguity, refuse the temptation to guess.\n",
      "There should be one-- and preferably only one --obvious way to do it.\n",
      "Although that way may not be obvious at first unless you're Dutch.\n",
      "Now is better than never.\n",
      "Although never is often better than *right* now.\n",
      "If the implementation is hard to explain, it's a bad idea.\n",
      "If the implementation is easy to explain, it may be a good idea.\n",
      "Namespaces are one honking great idea -- let's do more of those!\n"
     ]
    }
   ],
   "source": [
    "import this"
   ]
  }
 ],
 "metadata": {
  "kernelspec": {
   "display_name": "bigdata",
   "language": "python",
   "name": "python3"
  },
  "language_info": {
   "codemirror_mode": {
    "name": "ipython",
    "version": 3
   },
   "file_extension": ".py",
   "mimetype": "text/x-python",
   "name": "python",
   "nbconvert_exporter": "python",
   "pygments_lexer": "ipython3",
   "version": "3.9.12"
  },
  "orig_nbformat": 4
 },
 "nbformat": 4,
 "nbformat_minor": 2
}
