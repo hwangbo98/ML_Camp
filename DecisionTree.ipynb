{
 "cells": [
  {
   "cell_type": "code",
   "execution_count": 1,
   "metadata": {},
   "outputs": [],
   "source": [
    "import numpy as np\n",
    "from math import log\n",
    "import operator\n",
    "\n"
   ]
  },
  {
   "cell_type": "code",
   "execution_count": 2,
   "metadata": {},
   "outputs": [],
   "source": [
    "def create_a_dataset() :\n",
    "    D = [[1, 1, 'yes'],\n",
    "         [1, 1, 'yes'],\n",
    "         [1, 0, 'no'],\n",
    "         [0, 1, 'no'],\n",
    "         [0, 1, 'no']]\n",
    "    input_feature_names = ['no surfacing', 'flippers']\n",
    "\n",
    "    return D, input_feature_names\n",
    "\n"
   ]
  },
  {
   "cell_type": "code",
   "execution_count": 5,
   "metadata": {},
   "outputs": [],
   "source": [
    "def calShannonEnt(dataset) :\n",
    "    N = len(dataset)\n",
    "    label_counts = {}\n",
    "\n",
    "    for feature_vect in dataset :\n",
    "        cur_label = feature_vect[-1]\n",
    "\n",
    "        if cur_label not in label_counts.keys() :\n",
    "            label_counts[cur_label] = 0\n",
    "        label_counts[cur_label] += 1 \n",
    "\n",
    "    entropy = 0.0\n",
    "\n",
    "    for key in label_counts :\n",
    "        prob = float(label_counts[key]) / N\n",
    "        entropy -= prob * log(prob,2)\n",
    "    \n",
    "    return entropy\n"
   ]
  },
  {
   "cell_type": "code",
   "execution_count": 7,
   "metadata": {},
   "outputs": [
    {
     "data": {
      "text/plain": [
       "0.9709505944546686"
      ]
     },
     "execution_count": 7,
     "metadata": {},
     "output_type": "execute_result"
    }
   ],
   "source": [
    "my_data, my_feature_names = create_a_dataset()\n",
    "\n",
    "calShannonEnt(my_data)"
   ]
  },
  {
   "cell_type": "code",
   "execution_count": 12,
   "metadata": {},
   "outputs": [
    {
     "data": {
      "text/plain": [
       "1.3709505944546687"
      ]
     },
     "execution_count": 12,
     "metadata": {},
     "output_type": "execute_result"
    }
   ],
   "source": [
    "my_data[0][-1] = 'maybe'\n",
    "calShannonEnt(my_data)"
   ]
  },
  {
   "cell_type": "code",
   "execution_count": 14,
   "metadata": {},
   "outputs": [],
   "source": [
    "def chooseBestFeatureToSplit(dataset) :\n",
    "    n_features = len(dataset[0]) - 1 \n",
    "    baseEntropy = calShannonEnt(dataset)\n",
    "\n",
    "    bestInfoGain = 0.0\n",
    "    bestFeature = -1\n",
    "\n",
    "    for i in range(n_features) :\n",
    "        feature_list = [observation[i] for observation in dataset]\n",
    "        unique_vals = set(feature_list)\n",
    "\n",
    "        condEntropy = 0.0\n",
    "        for value in unique_vals :\n",
    "            subset = split(dataset, i, value)\n",
    "            prob = len(subset)/float(len(dataset))\n",
    "            condEntropy += prob * calShannonEnt(subset)\n",
    "        \n",
    "        infoGain = baseEntropy - condEntropy\n",
    "\n",
    "        if infoGain > bestInfoGain :\n",
    "            bestInfoGain = infoGain\n",
    "            bestFeature = i\n",
    "        \n",
    "    \n",
    "    return bestFeature\n"
   ]
  },
  {
   "cell_type": "code",
   "execution_count": 15,
   "metadata": {},
   "outputs": [],
   "source": [
    "def split(dataset, axis, value) :\n",
    "    res = []\n",
    "    for feature_vect in dataset :\n",
    "        if feature_vect[axis] == value :\n",
    "            reduced_feature_vect = feature_vect[:axis]\n",
    "            reduced_feature_vect.extend(feature_vect[axis+1:])\n",
    "            res.append(reduced_feature_vect)\n",
    "    \n",
    "    return res"
   ]
  },
  {
   "cell_type": "code",
   "execution_count": null,
   "metadata": {},
   "outputs": [],
   "source": []
  }
 ],
 "metadata": {
  "kernelspec": {
   "display_name": "bigdata",
   "language": "python",
   "name": "python3"
  },
  "language_info": {
   "codemirror_mode": {
    "name": "ipython",
    "version": 3
   },
   "file_extension": ".py",
   "mimetype": "text/x-python",
   "name": "python",
   "nbconvert_exporter": "python",
   "pygments_lexer": "ipython3",
   "version": "3.9.12"
  },
  "orig_nbformat": 4
 },
 "nbformat": 4,
 "nbformat_minor": 2
}
